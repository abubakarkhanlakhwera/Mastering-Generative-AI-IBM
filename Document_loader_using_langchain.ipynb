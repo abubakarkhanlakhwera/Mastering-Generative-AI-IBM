{
  "nbformat": 4,
  "nbformat_minor": 0,
  "metadata": {
    "colab": {
      "provenance": [],
      "authorship_tag": "ABX9TyPD8Aua8EG2As7ePYh/um/g",
      "include_colab_link": true
    },
    "kernelspec": {
      "name": "python3",
      "display_name": "Python 3"
    },
    "language_info": {
      "name": "python"
    }
  },
  "cells": [
    {
      "cell_type": "markdown",
      "metadata": {
        "id": "view-in-github",
        "colab_type": "text"
      },
      "source": [
        "<a href=\"https://colab.research.google.com/github/abubakarkhanlakhwera/Mastering-Generative-AI-IBM/blob/main/Document_loader_using_langchain.ipynb\" target=\"_parent\"><img src=\"https://colab.research.google.com/assets/colab-badge.svg\" alt=\"Open In Colab\"/></a>"
      ]
    },
    {
      "cell_type": "code",
      "execution_count": 9,
      "metadata": {
        "id": "o3M743szFxcl"
      },
      "outputs": [],
      "source": [
        "!pip  install -q langchain_community"
      ]
    },
    {
      "cell_type": "markdown",
      "source": [
        "# **Load Text**"
      ],
      "metadata": {
        "id": "2-0pG6sHIeD0"
      }
    },
    {
      "cell_type": "code",
      "source": [
        "!pip list | grep langchain"
      ],
      "metadata": {
        "colab": {
          "base_uri": "https://localhost:8080/"
        },
        "id": "HzAsHjwxHzxO",
        "outputId": "d3b6f4b1-e378-48bd-943f-23ead37b2c5d"
      },
      "execution_count": 10,
      "outputs": [
        {
          "output_type": "stream",
          "name": "stdout",
          "text": [
            "langchain                          0.3.19\n",
            "langchain-community                0.3.18\n",
            "langchain-core                     0.3.40\n",
            "langchain-text-splitters           0.3.6\n"
          ]
        }
      ]
    },
    {
      "cell_type": "code",
      "source": [
        "from langchain_community.document_loaders import TextLoader\n",
        "\n",
        "loader = TextLoader('/content/buisness_idea.txt')\n",
        "data = loader.load()\n",
        "print(data[0])"
      ],
      "metadata": {
        "colab": {
          "base_uri": "https://localhost:8080/"
        },
        "id": "t5KYvTgGIOsd",
        "outputId": "352c789a-f7ce-4e2a-d6d1-f184646f943b"
      },
      "execution_count": 15,
      "outputs": [
        {
          "output_type": "stream",
          "name": "stdout",
          "text": [
            "page_content='Recommended Idea: AI-Driven Chatbot & Analytics Tool for Boutique Hotels\n",
            "\n",
            "Overview:\n",
            "Develop a micro-SaaS solution that offers boutique hotels an AI-powered chatbot to handle guest inquiries, manage reservations, and provide personalized recommendations. Complement this with an analytics dashboard that gives hotel managers insights into guest behavior and preferences.\n",
            "\n",
            "Why This Idea?\n",
            "\n",
            "Zero Monetary Investment:\n",
            "\n",
            "Open-Source AI: Utilize free frameworks like TensorFlow or Hugging Face for chatbot development.\n",
            "No-Code Platforms: Rapidly build your MVP with tools like Bubble or Webflow.\n",
            "Cloud Free Tiers: Use AWS, Google Cloud, or Azure free credits for hosting.\n",
            "Clear Niche & Demand:\n",
            "\n",
            "Boutique hotels often operate with limited staff and resources. An AI chatbot can enhance guest service 24/7 while reducing workload.\n",
            "Analytics help these hotels optimize operations and personalize guest experiences—an attractive value proposition.\n",
            "Scalability & Revenue:\n",
            "\n",
            "Freemium Model: Offer a free basic version to attract users and charge for premium features (advanced analytics, integrations, customization).\n",
            "Market Expansion: Once proven in the boutique hotel niche, similar models can be adapted for other small hospitality businesses.\n",
            "Rapid Iteration:\n",
            "\n",
            "Engage with early adopters to refine features. Use agile methodologies to quickly enhance the product based on feedback.\n",
            "In Summary:\n",
            "This AI-driven chatbot and analytics tool for boutique hotels is a low-investment, high-potential micro-SaaS solution. It addresses a specific need in an underserved niche, leverages free and accessible technology, and offers a scalable business model that can evolve into a multi-million-dollar enterprise over time.' metadata={'source': '/content/buisness_idea.txt'}\n"
          ]
        }
      ]
    },
    {
      "cell_type": "markdown",
      "source": [
        "# **Load PDF(PyPDF)**"
      ],
      "metadata": {
        "id": "ZBUDkN5fJyIL"
      }
    },
    {
      "cell_type": "code",
      "source": [
        "!pip install -q pypdf"
      ],
      "metadata": {
        "colab": {
          "base_uri": "https://localhost:8080/"
        },
        "id": "XnccGP8nKScL",
        "outputId": "d11c9be6-02f3-42ad-9a72-7d0f39af9098"
      },
      "execution_count": 17,
      "outputs": [
        {
          "output_type": "stream",
          "name": "stdout",
          "text": [
            "\u001b[?25l   \u001b[90m━━━━━━━━━━━━━━━━━━━━━━━━━━━━━━━━━━━━━━━━\u001b[0m \u001b[32m0.0/302.0 kB\u001b[0m \u001b[31m?\u001b[0m eta \u001b[36m-:--:--\u001b[0m\r\u001b[2K   \u001b[91m━━━━━━━━━━━━━━━━━━━━━\u001b[0m\u001b[91m╸\u001b[0m\u001b[90m━━━━━━━━━━━━━━━━━━\u001b[0m \u001b[32m163.8/302.0 kB\u001b[0m \u001b[31m4.6 MB/s\u001b[0m eta \u001b[36m0:00:01\u001b[0m\r\u001b[2K   \u001b[90m━━━━━━━━━━━━━━━━━━━━━━━━━━━━━━━━━━━━━━━━\u001b[0m \u001b[32m302.0/302.0 kB\u001b[0m \u001b[31m4.8 MB/s\u001b[0m eta \u001b[36m0:00:00\u001b[0m\n",
            "\u001b[?25h"
          ]
        }
      ]
    },
    {
      "cell_type": "code",
      "source": [
        "from langchain_community.document_loaders import PyPDFLoader\n",
        "\n",
        "loader = PyPDFLoader('/content/WISEWORK AI AGENT PROJECT OVERVIEW.pdf')\n",
        "data = loader.load()\n",
        "print(data[0])"
      ],
      "metadata": {
        "colab": {
          "base_uri": "https://localhost:8080/"
        },
        "id": "SzYTgOr6J4Y7",
        "outputId": "77b9aa90-c0ef-4b46-d1d8-39d7e9d5b649"
      },
      "execution_count": 20,
      "outputs": [
        {
          "output_type": "stream",
          "name": "stdout",
          "text": [
            "page_content='WISEWORK AI AGENT PROJECT OVERVIEW & \n",
            "FUNCTIONAL SPECIFICATIONS \n",
            "1. Group Chat Integration & Client Management \n",
            "• WhatsApp Inquiries: The AI automatically receives inquiries via WhatsApp. \n",
            "• Group Chat Creation: Upon receiving an inquiry, the AI creates a new WhatsApp group with \n",
            "the client and the Wisework team. \n",
            "• Service Explanation: The AI sends a PDF to the client explaining Wisework’s services. \n",
            "• Inquiry Tracking: All client inquiries are consolidated into an internal Telegram group for \n",
            "discussion and record-keeping. \n",
            "• Response Suggestions: The AI proposes replies for the team to approve before sending them \n",
            "to the client. \n",
            "2. Appointment Scheduling & Team Coordination \n",
            "• Calendar Availability: The AI checks Google Calendar for open time slots. \n",
            "• Proposed Times: It then proposes three potential meeting times to the client. \n",
            "• Final Booking: Once the client chooses a time, the AI books the slot and updates Google \n",
            "Calendar. \n",
            "3. Quotation & Cost Projection \n",
            "• Floorplans & Job Details: The Wisework team shares floorplans and requirements with the \n",
            "AI. \n",
            "• Price List Integration: A pre-uploaded price list allows the AI to calculate approximate costs. \n",
            "• Cost Projection PDF: The AI generates a comprehensive PDF outlining projected costs for the \n",
            "client. \n",
            "4. Renovation Timeline & Supplier Management \n",
            "• Preliminary Timeline: After project confirmation, the AI creates a proposed renovation \n",
            "schedule.' metadata={'producer': 'Microsoft® Word for Microsoft 365', 'creator': 'Microsoft® Word for Microsoft 365', 'creationdate': '2025-02-26T09:52:15+05:00', 'author': 'HASEEB AHMAD', 'moddate': '2025-02-26T09:52:15+05:00', 'source': '/content/WISEWORK AI AGENT PROJECT OVERVIEW.pdf', 'total_pages': 4, 'page': 0, 'page_label': '1'}\n"
          ]
        }
      ]
    },
    {
      "cell_type": "markdown",
      "source": [
        "# **Load PDF(PyMuPDF)**"
      ],
      "metadata": {
        "id": "6HkhS4gWKrxr"
      }
    },
    {
      "cell_type": "markdown",
      "source": [
        " 🚀 **Uniqueness of PyMuPDFLoader (`fitz`)**\n",
        "\n",
        "### ✅ **1. Faster than Other PDF Parsers**\n",
        "- **Outperforms** `pdfminer`, `pdfplumber`, and `PyPDF2` in speed.\n",
        "- Efficiently processes large PDFs without performance issues.\n",
        "\n",
        "### ✅ **2. Extracts Text with Structure**\n",
        "- Preserves **formatting, indentation, and layout**.\n",
        "- Unlike `PyPDF2`, which can jumble text order.\n",
        "\n",
        "### ✅ **3. Page-by-Page Document Handling**\n",
        "- Treats each **page as a separate document** in LangChain.\n",
        "- Perfect for **chunking PDFs** for Retrieval-Augmented Generation (**RAG**).\n",
        "\n",
        "### ✅ **4. Supports Metadata Extraction**\n",
        "- Can extract **title, author, page numbers, and annotations**.\n",
        "\n",
        "### ✅ **5. Handles Scanned PDFs (With OCR)**\n",
        "- Works with **Tesseract OCR** to extract text from **scanned PDFs**.\n",
        "- Supports **multilingual text recognition** (English, Urdu, Arabic, etc.).\n",
        "\n",
        "### ✅ **6. Works Seamlessly with LangChain**\n",
        "- Can **convert PDFs into vector embeddings** using FAISS for AI applications.\n",
        "- Useful for **AI chatbots, document search, and knowledge retrieval**.\n",
        "\n",
        "### ✅ **7. Can Extract Images & Tables**\n",
        "- Extracts **embedded images, tables, and annotations**.\n",
        "- Unlike `PyPDF2`, which mainly extracts raw text.\n",
        "\n",
        "---\n",
        "\n",
        "## 🔥 **Why Choose PyMuPDFLoader?**\n",
        "| Feature              | PyMuPDFLoader (`fitz`) | PyPDF2 | pdfminer | pdfplumber |\n",
        "|----------------------|----------------------|--------|----------|------------|\n",
        "| **Speed**           | 🚀 Fastest            | 🐢 Slow | 🐢 Slow   | ⚡ Moderate |\n",
        "| **Preserves Layout**| ✅ Yes               | ❌ No   | ❌ No     | ✅ Yes |\n",
        "| **Metadata Support**| ✅ Yes               | ❌ No   | ✅ Yes    | ✅ Yes |\n",
        "| **Scanned PDFs (OCR)** | ✅ Yes (With Tesseract) | ❌ No | ❌ No | ❌ No |\n",
        "| **LangChain Integration** | ✅ Yes | ❌ No | ❌ No | ❌ No |\n",
        "\n",
        "---\n",
        "### 🛠 **Installation in Colab**\n",
        "```python\n",
        "!pip install pymupdf langchain pytesseract\n"
      ],
      "metadata": {
        "id": "SdG9bch8Nf5_"
      }
    },
    {
      "cell_type": "code",
      "source": [
        "!pip install -q pymupdf"
      ],
      "metadata": {
        "id": "LYfazbUiKM78"
      },
      "execution_count": 22,
      "outputs": []
    },
    {
      "cell_type": "code",
      "source": [
        "#pip install pymupdf pytesseract #ocr urdu arabic eng"
      ],
      "metadata": {
        "id": "9Wn_asHtM0Bq"
      },
      "execution_count": 25,
      "outputs": []
    },
    {
      "cell_type": "code",
      "source": [
        "from langchain_community.document_loaders import PyMuPDFLoader\n",
        "\n",
        "loader = PyMuPDFLoader('/content/WISEWORK AI AGENT PROJECT OVERVIEW.pdf')\n",
        "data = loader.load_and_split()\n",
        "print(data[0])"
      ],
      "metadata": {
        "colab": {
          "base_uri": "https://localhost:8080/"
        },
        "id": "1iXBsTCmLNcs",
        "outputId": "f16ad3d3-1ac7-4b0d-c522-c4178267f277"
      },
      "execution_count": 24,
      "outputs": [
        {
          "output_type": "stream",
          "name": "stdout",
          "text": [
            "page_content='WISEWORK AI AGENT PROJECT OVERVIEW & \n",
            "FUNCTIONAL SPECIFICATIONS \n",
            "1. Group Chat Integration & Client Management \n",
            "• WhatsApp Inquiries: The AI automatically receives inquiries via WhatsApp. \n",
            "• Group Chat Creation: Upon receiving an inquiry, the AI creates a new WhatsApp group with \n",
            "the client and the Wisework team. \n",
            "• Service Explanation: The AI sends a PDF to the client explaining Wisework’s services. \n",
            "• Inquiry Tracking: All client inquiries are consolidated into an internal Telegram group for \n",
            "discussion and record-keeping. \n",
            "• Response Suggestions: The AI proposes replies for the team to approve before sending them \n",
            "to the client. \n",
            "2. Appointment Scheduling & Team Coordination \n",
            "• Calendar Availability: The AI checks Google Calendar for open time slots. \n",
            "• Proposed Times: It then proposes three potential meeting times to the client. \n",
            "• Final Booking: Once the client chooses a time, the AI books the slot and updates Google \n",
            "Calendar. \n",
            "3. Quotation & Cost Projection \n",
            "• Floorplans & Job Details: The Wisework team shares floorplans and requirements with the \n",
            "AI. \n",
            "• Price List Integration: A pre-uploaded price list allows the AI to calculate approximate costs. \n",
            "• Cost Projection PDF: The AI generates a comprehensive PDF outlining projected costs for the \n",
            "client. \n",
            "4. Renovation Timeline & Supplier Management \n",
            "• Preliminary Timeline: After project confirmation, the AI creates a proposed renovation \n",
            "schedule.' metadata={'producer': 'Microsoft® Word for Microsoft 365', 'creator': 'Microsoft® Word for Microsoft 365', 'creationdate': '2025-02-26T09:52:15+05:00', 'source': '/content/WISEWORK AI AGENT PROJECT OVERVIEW.pdf', 'file_path': '/content/WISEWORK AI AGENT PROJECT OVERVIEW.pdf', 'total_pages': 4, 'format': 'PDF 1.7', 'title': '', 'author': 'HASEEB AHMAD', 'subject': '', 'keywords': '', 'moddate': '2025-02-26T09:52:15+05:00', 'trapped': '', 'modDate': \"D:20250226095215+05'00'\", 'creationDate': \"D:20250226095215+05'00'\", 'page': 0}\n"
          ]
        }
      ]
    },
    {
      "cell_type": "markdown",
      "source": [
        "# **Load Markdown**"
      ],
      "metadata": {
        "id": "qSU794CFNu2h"
      }
    },
    {
      "cell_type": "markdown",
      "source": [
        "🚀 ** Unique Features**\n",
        "\n",
        "## ✅ **1. Parses Complex Markdown Files**\n",
        "- Handles **headings, lists, tables, and code blocks** properly.\n",
        "- Extracts **structured content** without losing format.\n",
        "\n",
        "## ✅ **2. Works with LangChain for AI Applications**\n",
        "- Converts markdown content into **document objects**.\n",
        "- Can be used for **RAG-based AI applications**.\n",
        "\n",
        "## ✅ **3. Handles Large Markdown Files Efficiently**\n",
        "- Optimized for processing large documentation files.\n",
        "\n",
        "## ✅ **4. Supports Metadata Extraction**\n",
        "- Extracts **title, author, and document metadata**.\n",
        "\n",
        "---\n",
        "\n",
        "# 🔥 **Why Use UnstructuredMarkdownLoader?**\n",
        "\n",
        "| Feature                | UnstructuredMarkdownLoader | Plain Markdown Parsers |\n",
        "|------------------------|--------------------------|------------------------|\n",
        "| **Handles Lists**      | ✅ Yes                    | ❌ No                 |\n",
        "| **Handles Tables**     | ✅ Yes                    | ❌ No                 |\n",
        "| **Supports LangChain** | ✅ Yes                    | ❌ No                 |\n",
        "| **Preserves Structure**| ✅ Yes                    | ❌ No                 |\n",
        "\n",
        "---\n",
        "\n",
        "## 🛠 **Installation in Colab**\n",
        "```python\n",
        "!pip install langchain unstructured\n"
      ],
      "metadata": {
        "id": "MbRpKHhHO_93"
      }
    },
    {
      "cell_type": "code",
      "source": [
        "!pip install -q langchain unstructured\n",
        "\n"
      ],
      "metadata": {
        "colab": {
          "base_uri": "https://localhost:8080/"
        },
        "id": "4jgFoUX_N2kJ",
        "outputId": "00e1545d-063b-4c58-cf27-f492c43cb620"
      },
      "execution_count": 26,
      "outputs": [
        {
          "output_type": "stream",
          "name": "stdout",
          "text": [
            "\u001b[?25l     \u001b[90m━━━━━━━━━━━━━━━━━━━━━━━━━━━━━━━━━━━━━━━━\u001b[0m \u001b[32m0.0/981.5 kB\u001b[0m \u001b[31m?\u001b[0m eta \u001b[36m-:--:--\u001b[0m\r\u001b[2K     \u001b[91m━━━━━━━━━━━━━━━━━\u001b[0m\u001b[91m╸\u001b[0m\u001b[90m━━━━━━━━━━━━━━━━━━━━━━\u001b[0m \u001b[32m440.3/981.5 kB\u001b[0m \u001b[31m13.1 MB/s\u001b[0m eta \u001b[36m0:00:01\u001b[0m\r\u001b[2K     \u001b[90m━━━━━━━━━━━━━━━━━━━━━━━━━━━━━━━━━━━━━━━━\u001b[0m \u001b[32m981.5/981.5 kB\u001b[0m \u001b[31m14.9 MB/s\u001b[0m eta \u001b[36m0:00:00\u001b[0m\n",
            "\u001b[?25h  Preparing metadata (setup.py) ... \u001b[?25l\u001b[?25hdone\n",
            "\u001b[2K   \u001b[90m━━━━━━━━━━━━━━━━━━━━━━━━━━━━━━━━━━━━━━━━\u001b[0m \u001b[32m1.8/1.8 MB\u001b[0m \u001b[31m20.3 MB/s\u001b[0m eta \u001b[36m0:00:00\u001b[0m\n",
            "\u001b[2K   \u001b[90m━━━━━━━━━━━━━━━━━━━━━━━━━━━━━━━━━━━━━━━━\u001b[0m \u001b[32m590.6/590.6 kB\u001b[0m \u001b[31m14.9 MB/s\u001b[0m eta \u001b[36m0:00:00\u001b[0m\n",
            "\u001b[2K   \u001b[90m━━━━━━━━━━━━━━━━━━━━━━━━━━━━━━━━━━━━━━━━\u001b[0m \u001b[32m167.6/167.6 kB\u001b[0m \u001b[31m6.4 MB/s\u001b[0m eta \u001b[36m0:00:00\u001b[0m\n",
            "\u001b[2K   \u001b[90m━━━━━━━━━━━━━━━━━━━━━━━━━━━━━━━━━━━━━━━━\u001b[0m \u001b[32m3.1/3.1 MB\u001b[0m \u001b[31m20.3 MB/s\u001b[0m eta \u001b[36m0:00:00\u001b[0m\n",
            "\u001b[2K   \u001b[90m━━━━━━━━━━━━━━━━━━━━━━━━━━━━━━━━━━━━━━━━\u001b[0m \u001b[32m166.4/166.4 kB\u001b[0m \u001b[31m4.3 MB/s\u001b[0m eta \u001b[36m0:00:00\u001b[0m\n",
            "\u001b[2K   \u001b[90m━━━━━━━━━━━━━━━━━━━━━━━━━━━━━━━━━━━━━━━━\u001b[0m \u001b[32m114.6/114.6 kB\u001b[0m \u001b[31m4.1 MB/s\u001b[0m eta \u001b[36m0:00:00\u001b[0m\n",
            "\u001b[?25h  Building wheel for langdetect (setup.py) ... \u001b[?25l\u001b[?25hdone\n"
          ]
        }
      ]
    },
    {
      "cell_type": "code",
      "source": [
        "from langchain_community.document_loaders import UnstructuredMarkdownLoader\n",
        "\n",
        "loader = UnstructuredMarkdownLoader('/content/README.md')\n",
        "data = loader.load()\n",
        "print(data[0])"
      ],
      "metadata": {
        "colab": {
          "base_uri": "https://localhost:8080/"
        },
        "id": "MZTbem33OpsZ",
        "outputId": "95cfc44a-0c6a-4c6c-f9de-f24aea937217"
      },
      "execution_count": 27,
      "outputs": [
        {
          "output_type": "stream",
          "name": "stdout",
          "text": [
            "page_content='Mastering-Generative-AI-IBM' metadata={'source': '/content/README.md'}\n"
          ]
        }
      ]
    },
    {
      "cell_type": "markdown",
      "source": [
        "# **Load Json**"
      ],
      "metadata": {
        "id": "MRj29AelPCIH"
      }
    },
    {
      "cell_type": "markdown",
      "source": [
        " ##🚀 **JSONLoader - Unique Features**\n",
        "\n",
        "## ✅ **1. Parses Structured JSON Data**\n",
        "- Extracts **specific fields** using `jq` queries.\n",
        "- Works well with **API responses, logs, and structured data**.\n",
        "\n",
        "## ✅ **2. Works with LangChain for AI Applications**\n",
        "- Converts JSON records into **document objects**.\n",
        "- Useful for **chatbots, document search, and AI pipelines**.\n",
        "\n",
        "## ✅ **3. Handles Nested JSON Objects**\n",
        "- Supports **complex, multi-level JSON parsing**.\n",
        "\n",
        "## ✅ **4. Custom Metadata Extraction**\n",
        "- Uses a custom function to **extract metadata** dynamically.\n",
        "\n",
        "---\n",
        "\n",
        "# 🔥 **Why Use JSONLoader?**\n",
        "\n",
        "| Feature                | JSONLoader | UnstructuredJSONLoader |\n",
        "|------------------------|-----------|----------------------|\n",
        "| **Handles Nested JSON** | ✅ Yes   | ✅ Yes              |\n",
        "| **Supports `jq` Queries** | ✅ Yes | ❌ No              |\n",
        "| **Metadata Extraction** | ✅ Yes   | ✅ Yes              |\n",
        "| **Optimized for LangChain** | ✅ Yes | ✅ Yes              |\n",
        "\n",
        "---\n",
        "\n",
        "## 🛠 **Installation in Colab**\n",
        "```python\n",
        "!pip install langchain jsonlines\n"
      ],
      "metadata": {
        "id": "naP60aEdPZpQ"
      }
    },
    {
      "cell_type": "code",
      "source": [
        "!pip install -q langchain jsonlines"
      ],
      "metadata": {
        "id": "Gk4GutE6O8IJ"
      },
      "execution_count": 29,
      "outputs": []
    },
    {
      "cell_type": "code",
      "source": [
        "from langchain.document_loaders import JSONLoader\n",
        "\n",
        "# Load a JSON file with specific data extraction\n",
        "loader = JSONLoader(\n",
        "    file_path=\"sample.json\",\n",
        "    jq_schema=\".messages[].content\",  # Extract messages from JSON\n",
        "    text_content=False\n",
        ")\n",
        "\n",
        "\n",
        "data = loader.load()\n",
        "data\n"
      ],
      "metadata": {
        "id": "4G_9yNQePqk4"
      },
      "execution_count": null,
      "outputs": []
    },
    {
      "cell_type": "markdown",
      "source": [
        "# **Load CSV**"
      ],
      "metadata": {
        "id": "_mNTTdjqQGDf"
      }
    },
    {
      "cell_type": "markdown",
      "source": [
        "## 🚀 **CSVLoader - Unique Features**\n",
        "\n",
        "## ✅ **1. Parses Structured CSV Data**\n",
        "- Reads **comma-separated and tab-separated** files.\n",
        "- Extracts **rows as document objects**.\n",
        "\n",
        "## ✅ **2. Works with LangChain for AI Applications**\n",
        "- Converts CSV records into **document objects**.\n",
        "- Useful for **data-driven AI applications, RAG, and search engines**.\n",
        "\n",
        "## ✅ **3. Handles Large CSV Files Efficiently**\n",
        "- Uses **pandas** for optimized data loading.\n",
        "\n",
        "## ✅ **4. Supports Metadata Extraction**\n",
        "- Adds column names as **metadata** for each document.\n",
        "\n",
        "---\n",
        "\n",
        "# 🔥 **Why Use CSVLoader?**\n",
        "\n",
        "| Feature                | CSVLoader | pandas.read_csv |\n",
        "|------------------------|-----------|----------------|\n",
        "| **Handles Large CSVs** | ✅ Yes   | ✅ Yes        |\n",
        "| **Extracts Rows as Documents** | ✅ Yes | ❌ No     |\n",
        "| **Metadata Extraction** | ✅ Yes   | ❌ No        |\n",
        "| **Optimized for LangChain** | ✅ Yes | ❌ No        |\n",
        "\n",
        "---\n",
        "\n",
        "## 🛠 **Installation in Colab**\n",
        "```python\n",
        "!pip install langchain pandas\n"
      ],
      "metadata": {
        "id": "v3FTg2aXQdQ-"
      }
    },
    {
      "cell_type": "code",
      "source": [
        "!pip install -q pandas"
      ],
      "metadata": {
        "id": "ESisDdzkQf8m"
      },
      "execution_count": 30,
      "outputs": []
    },
    {
      "cell_type": "code",
      "source": [
        "from langchain_community.document_loaders.csv_loader import CSVLoader\n",
        "loader = CSVLoader(file_path='/content/tmpw2fglrse (2).csv')\n",
        "data  = loader.load()\n",
        "data[0]"
      ],
      "metadata": {
        "colab": {
          "base_uri": "https://localhost:8080/"
        },
        "id": "lQvyAToFQkV4",
        "outputId": "60268ceb-3aa5-407a-97d0-8d95231283a4"
      },
      "execution_count": 32,
      "outputs": [
        {
          "output_type": "execute_result",
          "data": {
            "text/plain": [
              "Document(metadata={'source': '/content/tmpw2fglrse (2).csv', 'row': 0}, page_content=': 0\\nRank (Borda): 1\\nModel: [Linq-Embed-Mistral](https://huggingface.co/Linq-AI-Research/Linq-Embed-Mistral)\\nZero-shot: -1\\nNumber of Parameters: 7B\\nEmbedding Dimensions: 4096\\nMax Tokens: 32768\\nMean (Task): 61.47\\nMean (TaskType): 54.21\\nBitext Mining: 70.34\\nClassification: 62.24\\nClustering: 51.27\\nInstruction Retrieval: 0.94\\nMultilabel Classification: 24.77\\nPair Classification: 80.43\\nReranking: 64.37\\nRetrieval: 58.69\\nSTS: 74.86')"
            ]
          },
          "metadata": {},
          "execution_count": 32
        }
      ]
    },
    {
      "cell_type": "code",
      "source": [],
      "metadata": {
        "id": "CrFlulVKQ5iH"
      },
      "execution_count": null,
      "outputs": []
    }
  ]
}